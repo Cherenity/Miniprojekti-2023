{
 "cells": [
  {
   "cell_type": "markdown",
   "id": "9a37b528-f38f-4bd5-92f1-fb0be8112a19",
   "metadata": {},
   "source": [
    "# Notebook for transforming Weather data"
   ]
  },
  {
   "cell_type": "markdown",
   "id": "bf528d68-7702-43cb-8029-1669a3d1cb5f",
   "metadata": {},
   "source": [
    "### 1. Read data to dataframe and drop NaN values"
   ]
  },
  {
   "cell_type": "code",
   "execution_count": null,
   "id": "5dbab42f-6633-4c93-b615-61c8c3f2594e",
   "metadata": {},
   "outputs": [],
   "source": [
    "import pandas as pd\n",
    "\n",
    "df = pd.read_csv('Weather.csv')\n",
    "df.dropna(inplace=True)\n",
    "df"
   ]
  },
  {
   "cell_type": "markdown",
   "id": "141b0dfc-0b96-4191-ae70-6129fd0884a4",
   "metadata": {},
   "source": [
    "### 2. Handling time formats. Creating DateKey and Weather_time columns. Dropping unnecessary time related columns"
   ]
  },
  {
   "cell_type": "code",
   "execution_count": null,
   "id": "97dc5468-55d6-4308-92f9-3c4b748ffb3c",
   "metadata": {},
   "outputs": [],
   "source": [
    "# Split time to date (year, month, day) and time (hour, minute)\n",
    "df[['Date', 'Time']] = df['time'].str.split('T', expand=True)\n",
    "df[['Hour', 'Minute']] = df['Time'].str.split(':', expand=True)\n",
    "df[['Year', 'Month', 'Day']] = df['Date'].str.split('-', expand=True)\n",
    "\n",
    "# Create Datekey and Datetime colums\n",
    "df['DateKey'] = df[['Year', 'Month', 'Day', 'Hour']].apply(''.join, axis=1).astype(int)\n",
    "df['Weather_time'] = pd.to_datetime(df['time'])\n",
    "\n",
    "# Drop unnecessary columns\n",
    "df.drop(columns=['Time','time','Date','Minute','Hour','Month','Day','Year'], inplace=True)\n",
    "df.head()"
   ]
  },
  {
   "cell_type": "markdown",
   "id": "a8728c8d-98a6-4151-836b-d7342394759e",
   "metadata": {},
   "source": [
    "### 3. Renaming columns and setting DateKey as index"
   ]
  },
  {
   "cell_type": "code",
   "execution_count": null,
   "id": "92249e57-9c77-451b-b290-4f9f6a40dfac",
   "metadata": {},
   "outputs": [],
   "source": [
    "# Renaming columns\n",
    "df = df.rename(columns={'temperature_2m (°C)':'Temperature', \n",
    "                        'relativehumidity_2m (%)':'Humidity', \n",
    "                        'precipitation (mm)':'Rainfall', \n",
    "                        'cloudcover (%)':'Clouds',\n",
    "                        'windspeed_10m (m/s)':'Wind'})\n",
    "# Resetting index\n",
    "df.set_index('DateKey', inplace=True)\n",
    "\n",
    "# Saving to file\n",
    "df.to_csv('Weather_final.csv', sep=',')\n",
    "df.head()"
   ]
  }
 ],
 "metadata": {
  "kernelspec": {
   "display_name": "Python 3 (ipykernel)",
   "language": "python",
   "name": "python3"
  },
  "language_info": {
   "codemirror_mode": {
    "name": "ipython",
    "version": 3
   },
   "file_extension": ".py",
   "mimetype": "text/x-python",
   "name": "python",
   "nbconvert_exporter": "python",
   "pygments_lexer": "ipython3",
   "version": "3.11.1"
  }
 },
 "nbformat": 4,
 "nbformat_minor": 5
}
