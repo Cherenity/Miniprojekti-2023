{
 "cells": [
  {
   "cell_type": "markdown",
   "id": "c4bb9053-6176-4023-b2a7-ca32fccba349",
   "metadata": {},
   "source": [
    "# Machine Learning"
   ]
  },
  {
   "cell_type": "markdown",
   "id": "5135a6be-3658-4737-beb3-6924d0a1d826",
   "metadata": {},
   "source": [
    "### Imports"
   ]
  },
  {
   "cell_type": "code",
   "execution_count": null,
   "id": "7820bf3a",
   "metadata": {},
   "outputs": [],
   "source": [
    "import pandas as pd\n",
    "import numpy as np\n",
    "import requests\n",
    "import json\n",
    "import random\n",
    "\n",
    "from sklearn.preprocessing import LabelEncoder\n",
    "from sklearn.model_selection import train_test_split\n",
    "from sklearn.metrics import accuracy_score\n",
    "\n",
    "from sklearn.neighbors import KNeighborsClassifier\n",
    "from sklearn.naive_bayes import GaussianNB\n",
    "from sklearn.tree import DecisionTreeClassifier\n",
    "from sklearn.ensemble import RandomForestClassifier\n",
    "from sklearn.linear_model import LogisticRegression\n",
    "\n",
    "from datetime import datetime, timedelta\n",
    "from warnings import simplefilter"
   ]
  },
  {
   "cell_type": "markdown",
   "id": "edad4510-4bc8-4ce3-b7ef-118f7f1958f0",
   "metadata": {},
   "source": [
    "### 1. Reading data from CSV to DataFrame"
   ]
  },
  {
   "cell_type": "code",
   "execution_count": null,
   "id": "7abd886f",
   "metadata": {
    "scrolled": true
   },
   "outputs": [],
   "source": [
    "simplefilter(action='ignore', category=FutureWarning)\n",
    "\n",
    "df = pd.read_csv('FactCrimes.csv')\n",
    "df = df.drop('Neighborhood', axis=1)\n",
    "df = df.drop('DateKey', axis=1)\n",
    "df.head()"
   ]
  },
  {
   "cell_type": "markdown",
   "id": "c9e0568d-1778-4d62-af84-199a40f037f3",
   "metadata": {},
   "source": [
    "### 2. Using LabelEncoder for encoding incidentCategory values to numerical "
   ]
  },
  {
   "cell_type": "code",
   "execution_count": null,
   "id": "baa3aaae",
   "metadata": {
    "scrolled": true
   },
   "outputs": [],
   "source": [
    "le = LabelEncoder()\n",
    "le.fit(df['IncidentCategory'])\n",
    "df['IncidentCategory'] = le.transform(df['IncidentCategory'])\n",
    "df.head()"
   ]
  },
  {
   "cell_type": "markdown",
   "id": "f4fe6757",
   "metadata": {},
   "source": [
    "### 3. Define X and y and train/test-split"
   ]
  },
  {
   "cell_type": "code",
   "execution_count": null,
   "id": "9f4e9567",
   "metadata": {},
   "outputs": [],
   "source": [
    "y = df['IncidentCategory'].values\n",
    "X = df[['Temperature','Humidity','Clouds','Wind']].values\n",
    "X_train,X_test,y_train,y_test = train_test_split(X,y,test_size=.3)"
   ]
  },
  {
   "cell_type": "markdown",
   "id": "9dc6596f",
   "metadata": {},
   "source": [
    "### 4. Create all the models and append them to models list"
   ]
  },
  {
   "cell_type": "code",
   "execution_count": null,
   "id": "5469c361",
   "metadata": {},
   "outputs": [],
   "source": [
    "reg_strength = 0.02\n",
    "models = []\n",
    "\n",
    "models.append(KNeighborsClassifier(n_neighbors = 72))   # default = 5\n",
    "models.append(DecisionTreeClassifier(max_depth=1))\n",
    "models.append(GaussianNB())\n",
    "models.append(RandomForestClassifier(max_depth=1))\n",
    "models.append(LogisticRegression(C=1/reg_strength, solver=\"liblinear\"))\n",
    "\n",
    "random.shuffle(models)"
   ]
  },
  {
   "cell_type": "markdown",
   "id": "7264708e",
   "metadata": {},
   "source": [
    "### 5. Training and reviewing all models in for loop"
   ]
  },
  {
   "cell_type": "code",
   "execution_count": null,
   "id": "33f0c1cf",
   "metadata": {
    "scrolled": true
   },
   "outputs": [],
   "source": [
    "best_model = {'model': None, 'score': 0}\n",
    "\n",
    "for model in models:\n",
    "    print(f'Training model {model}')\n",
    "    model.fit(X_train, y_train)\n",
    "    predictions = model.predict(X_test)\n",
    "    acc = accuracy_score(y_test,predictions)\n",
    "    if acc > best_model['score']:\n",
    "        best_model.update({'model': model})\n",
    "        best_model.update({'score': acc})\n",
    "    print(f'Model accuracy: {acc} \\n')\n",
    "    \n",
    "print(best_model)"
   ]
  },
  {
   "cell_type": "markdown",
   "id": "07f4c91c-177f-4d4e-af57-123ff7b74f54",
   "metadata": {},
   "source": [
    "### 6. Bit of time-related calculations"
   ]
  },
  {
   "cell_type": "code",
   "execution_count": null,
   "id": "a9272504",
   "metadata": {},
   "outputs": [],
   "source": [
    "aikaero = timedelta(hours=9)\n",
    "now_sf = datetime.now() - aikaero\n",
    "predict_hour = now_sf + timedelta(hours=1)\n",
    "predict_hour = predict_hour.strftime(\"%H\")"
   ]
  },
  {
   "cell_type": "markdown",
   "id": "087dc886-b885-47ec-8c9d-8d352ef6b7d3",
   "metadata": {},
   "source": [
    "### 7. Calling API for weather forecast and converting received JSON to DataFrame"
   ]
  },
  {
   "cell_type": "code",
   "execution_count": null,
   "id": "e5089f6f-ad07-4464-a78e-769d9f52243e",
   "metadata": {},
   "outputs": [],
   "source": [
    "URL = 'https://api.open-meteo.com/v1/forecast?latitude=37.77&longitude=-122.42&hourly=temperature_2m,relativehumidity_2m,cloudcover,windspeed_10m&windspeed_unit=ms&forecast_days=1&timezone=America%2FLos_Angeles'\n",
    "\n",
    "response = requests.get(URL)\n",
    "json_data = response.json()\n",
    "\n",
    "forecast = pd.DataFrame({\n",
    "    'temperature': json_data['hourly']['temperature_2m'],\n",
    "    'humidity': json_data['hourly']['relativehumidity_2m'],\n",
    "    'cloud': json_data['hourly']['cloudcover'],\n",
    "    'wind': json_data['hourly']['windspeed_10m']\n",
    "})\n",
    "forecast.head()"
   ]
  },
  {
   "cell_type": "markdown",
   "id": "6f7d3f75-40e8-44fd-9524-dbe2d0396abd",
   "metadata": {},
   "source": [
    "### 8. Predicting upcoming CrimeWeather®"
   ]
  },
  {
   "cell_type": "code",
   "execution_count": null,
   "id": "83edfe00-1fe1-4596-a816-256b3c660295",
   "metadata": {},
   "outputs": [],
   "source": [
    "t = forecast.loc[int(predict_hour)]\n",
    "f = [t.temperature, t.humidity, t.cloud, t.wind]\n",
    "f = np.array(f).reshape(1,-1)\n",
    "\n",
    "model = best_model['model']\n",
    "pred = model.predict(f)[0]\n",
    "prediction = le.inverse_transform([pred])\n",
    "\n",
    "print(f'Todennäköisin rikos: {prediction[0]}')"
   ]
  },
  {
   "cell_type": "markdown",
   "id": "141b127b-0959-487c-b59d-6d998af2cf2b",
   "metadata": {},
   "source": [
    "### 9. Resolutions"
   ]
  }
 ],
 "metadata": {
  "kernelspec": {
   "display_name": "Python 3 (ipykernel)",
   "language": "python",
   "name": "python3"
  },
  "language_info": {
   "codemirror_mode": {
    "name": "ipython",
    "version": 3
   },
   "file_extension": ".py",
   "mimetype": "text/x-python",
   "name": "python",
   "nbconvert_exporter": "python",
   "pygments_lexer": "ipython3",
   "version": "3.11.1"
  }
 },
 "nbformat": 4,
 "nbformat_minor": 5
}
