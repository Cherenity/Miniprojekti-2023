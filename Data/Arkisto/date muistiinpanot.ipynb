{
 "cells": [
  {
   "cell_type": "code",
   "execution_count": null,
   "id": "cb3d089c-7f3b-4545-9920-97e7d21afe2a",
   "metadata": {},
   "outputs": [],
   "source": [
    "# Muistissa\n",
    "# df['LocaleTime'] = df[\"Datetime\"].dt.strftime('%c')\n",
    "# df['time'] =df[\"Datetime\"].dt.time # Object\n",
    "# df['timezone'] =df[\"Datetime\"].dt.tz # Object\n",
    "# df['TimeofDay'] = df[\"Datetime\"].dt.strftime('%p')\n",
    "\n",
    "# df['Quarter'] =df[\"Datetime\"].dt.quarter\n",
    "# df['MonthName'] = df[\"Datetime\"].dt.strftime('%b')\n",
    "# df['Week Name'] = df[\"Datetime\"].dt.strftime('%A')\n",
    "# df['WeekNumber'] = df[\"Datetime\"].dt.strftime('%W')\n",
    "# df['Weekday'] = df[\"Datetime\"].dt.weekday\n",
    "# df['DayofYEar'] = df[\"Datetime\"].dt.dayofyear\n",
    "# df['Century'] = df[\"Datetime\"].dt.strftime('%Y')"
   ]
  }
 ],
 "metadata": {
  "kernelspec": {
   "display_name": "Python 3 (ipykernel)",
   "language": "python",
   "name": "python3"
  },
  "language_info": {
   "codemirror_mode": {
    "name": "ipython",
    "version": 3
   },
   "file_extension": ".py",
   "mimetype": "text/x-python",
   "name": "python",
   "nbconvert_exporter": "python",
   "pygments_lexer": "ipython3",
   "version": "3.9.13"
  }
 },
 "nbformat": 4,
 "nbformat_minor": 5
}
