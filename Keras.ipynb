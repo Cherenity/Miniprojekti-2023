{
 "cells": [
  {
   "cell_type": "code",
   "execution_count": 10,
   "id": "3e6c2b7f",
   "metadata": {},
   "outputs": [],
   "source": [
    "import tensorflow as tf\n",
    "import pandas as pd\n",
    "\n",
    "from sklearn.model_selection import train_test_split\n",
    "from sklearn.preprocessing import LabelEncoder\n",
    "from keras.models import Sequential\n",
    "from keras.layers import Dense, Embedding, LSTM, GRU"
   ]
  },
  {
   "cell_type": "markdown",
   "id": "c660fe70-853a-4c58-a3e0-a4e5ab7b04b8",
   "metadata": {},
   "source": [
    "### 1. Building Neural Network"
   ]
  },
  {
   "cell_type": "code",
   "execution_count": 11,
   "id": "17870728-08d9-4271-a014-0ad091b4cd99",
   "metadata": {},
   "outputs": [],
   "source": [
    "EMBEDDING_DIM = 1000\n",
    "\n",
    "model = Sequential()\n",
    "model.add(Embedding(EMBEDDING_DIM, 64, input_length=4))\n",
    "model.add(GRU(units=64, dropout=0.2, recurrent_dropout=0.2))\n",
    "model.add(Dense(32, activation='relu'))\n",
    "\n",
    "model.compile(loss='mse', optimizer= 'adam', metrics=['accuracy'])"
   ]
  },
  {
   "cell_type": "markdown",
   "id": "019ef578-d31c-4c87-9d31-28ddc636cd7d",
   "metadata": {},
   "source": [
    "### 2. Read data, label it into numerical and split for train/test sets"
   ]
  },
  {
   "cell_type": "code",
   "execution_count": 12,
   "id": "4308d90d-1a2d-4348-83f0-15c487be62d0",
   "metadata": {},
   "outputs": [],
   "source": [
    "df = pd.read_csv('FactCrimes.csv')\n",
    "\n",
    "le = LabelEncoder()\n",
    "le.fit(df['IncidentCategory'])\n",
    "df['IncidentCategory'] = le.transform(df['IncidentCategory'])\n",
    "\n",
    "y = df['IncidentCategory'].values\n",
    "X = df[['Temperature','Humidity','Clouds','Wind']].values\n",
    "\n",
    "X_train,X_test,y_train,y_test=train_test_split(X,y,test_size=.3)"
   ]
  },
  {
   "cell_type": "markdown",
   "id": "83135394-19c0-4191-8dbf-8243f56ef53a",
   "metadata": {},
   "source": [
    "### 3. Training Model"
   ]
  },
  {
   "cell_type": "code",
   "execution_count": 13,
   "id": "45e16410-f180-4dd8-9024-baacdc4eabd9",
   "metadata": {},
   "outputs": [
    {
     "name": "stdout",
     "output_type": "stream",
     "text": [
      "Epoch 1/10\n",
      "129/129 - 4s - loss: 1077.0237 - accuracy: 0.0015 - val_loss: 805.9195 - val_accuracy: 4.8745e-04 - 4s/epoch - 30ms/step\n",
      "Epoch 2/10\n",
      "129/129 - 1s - loss: 669.0165 - accuracy: 0.0012 - val_loss: 567.6682 - val_accuracy: 4.8745e-04 - 670ms/epoch - 5ms/step\n",
      "Epoch 3/10\n",
      "129/129 - 1s - loss: 505.3462 - accuracy: 0.0012 - val_loss: 459.5804 - val_accuracy: 4.8745e-04 - 677ms/epoch - 5ms/step\n",
      "Epoch 4/10\n",
      "129/129 - 1s - loss: 434.2553 - accuracy: 0.0012 - val_loss: 415.3208 - val_accuracy: 4.8745e-04 - 680ms/epoch - 5ms/step\n",
      "Epoch 5/10\n",
      "129/129 - 1s - loss: 407.4615 - accuracy: 0.0012 - val_loss: 399.7474 - val_accuracy: 4.8745e-04 - 689ms/epoch - 5ms/step\n",
      "Epoch 6/10\n",
      "129/129 - 1s - loss: 398.9750 - accuracy: 0.0012 - val_loss: 395.0660 - val_accuracy: 4.8745e-04 - 672ms/epoch - 5ms/step\n",
      "Epoch 7/10\n",
      "129/129 - 1s - loss: 396.7729 - accuracy: 0.0012 - val_loss: 393.8732 - val_accuracy: 4.8745e-04 - 694ms/epoch - 5ms/step\n",
      "Epoch 8/10\n",
      "129/129 - 1s - loss: 396.3009 - accuracy: 0.0012 - val_loss: 393.5997 - val_accuracy: 4.8745e-04 - 683ms/epoch - 5ms/step\n",
      "Epoch 9/10\n",
      "129/129 - 1s - loss: 396.2330 - accuracy: 0.0012 - val_loss: 393.5365 - val_accuracy: 4.8745e-04 - 686ms/epoch - 5ms/step\n",
      "Epoch 10/10\n",
      "129/129 - 1s - loss: 396.2250 - accuracy: 0.0012 - val_loss: 393.5117 - val_accuracy: 4.8745e-04 - 664ms/epoch - 5ms/step\n"
     ]
    }
   ],
   "source": [
    "num_epochs = 10\n",
    "batch_size = 128\n",
    "history = model.fit(X_train, y_train, batch_size=batch_size, epochs=num_epochs, verbose=2, validation_split=0.2)"
   ]
  },
  {
   "cell_type": "markdown",
   "id": "fe9403c1-ff26-47bc-8236-df85be0f6cc7",
   "metadata": {},
   "source": [
    "### 4. Evaluate Accuracy"
   ]
  },
  {
   "cell_type": "code",
   "execution_count": 14,
   "id": "7c3cf690-f6a8-4810-b50b-d56c7fb11e8e",
   "metadata": {},
   "outputs": [
    {
     "name": "stdout",
     "output_type": "stream",
     "text": [
      "69/69 - 0s - loss: 391.2000 - accuracy: 3.4122e-04 - 144ms/epoch - 2ms/step\n",
      "Test Accuracy: 0.0003 %\n"
     ]
    }
   ],
   "source": [
    "score, acc = model.evaluate(X_test, y_test, batch_size=batch_size, verbose=2)\n",
    "print(f'Test Accuracy: {(acc):.4f} %')"
   ]
  }
 ],
 "metadata": {
  "kernelspec": {
   "display_name": "Python 3 (ipykernel)",
   "language": "python",
   "name": "python3"
  },
  "language_info": {
   "codemirror_mode": {
    "name": "ipython",
    "version": 3
   },
   "file_extension": ".py",
   "mimetype": "text/x-python",
   "name": "python",
   "nbconvert_exporter": "python",
   "pygments_lexer": "ipython3",
   "version": "3.11.1"
  }
 },
 "nbformat": 4,
 "nbformat_minor": 5
}
